{
  "nbformat": 4,
  "nbformat_minor": 0,
  "metadata": {
    "colab": {
      "provenance": [],
      "authorship_tag": "ABX9TyN7Nivy81yXwnHnYNDePIkd",
      "include_colab_link": true
    },
    "kernelspec": {
      "name": "python3",
      "display_name": "Python 3"
    },
    "language_info": {
      "name": "python"
    }
  },
  "cells": [
    {
      "cell_type": "markdown",
      "metadata": {
        "id": "view-in-github",
        "colab_type": "text"
      },
      "source": [
        "<a href=\"https://colab.research.google.com/github/chocozzang/My_Python_Practice/blob/main/%EC%A0%9C3%ED%9A%8C%EC%8B%A4%EA%B8%B0%EA%B8%B0%EC%B6%9C%EB%AC%B8%EC%A0%9C.ipynb\" target=\"_parent\"><img src=\"https://colab.research.google.com/assets/colab-badge.svg\" alt=\"Open In Colab\"/></a>"
      ]
    },
    {
      "cell_type": "code",
      "execution_count": 1,
      "metadata": {
        "colab": {
          "base_uri": "https://localhost:8080/"
        },
        "id": "wL5-kwsiLCNJ",
        "outputId": "601102c3-00d9-4475-827a-f287d6a647aa"
      },
      "outputs": [
        {
          "output_type": "stream",
          "name": "stdout",
          "text": [
            "Mounted at /content/drive\n"
          ]
        }
      ],
      "source": [
        "from google.colab import drive\n",
        "drive.mount('/content/drive')"
      ]
    },
    {
      "cell_type": "code",
      "source": [
        "import pandas as pd\n",
        "\n",
        "data = pd.read_csv('/content/drive/MyDrive/Colab Notebooks/실습3/3rd_boston_housing.csv')\n",
        "\n",
        "data = data.dropna()\n",
        "\n",
        "sz = (int)(len(data) * 0.7)\n",
        "\n",
        "data_70per = data.iloc[0:sz:, ::]\n",
        "\n",
        "result = data_70per.tax.quantile(0.25)\n",
        "\n",
        "print((int)(result))"
      ],
      "metadata": {
        "colab": {
          "base_uri": "https://localhost:8080/"
        },
        "id": "4CLOPrq2M7XY",
        "outputId": "d33a1f43-56ff-48d6-e86d-1fa564331904"
      },
      "execution_count": 10,
      "outputs": [
        {
          "output_type": "stream",
          "name": "stdout",
          "text": [
            "264\n"
          ]
        }
      ]
    },
    {
      "cell_type": "code",
      "source": [
        "data2 = pd.read_csv('/content/drive/MyDrive/Colab Notebooks/실습3/3rd_tour.csv', encoding='euc-kr')\n",
        "\n",
        "data2_2000 = data2.loc[data2.year == 2000]\n",
        "\n",
        "data2_2000_ = data2_2000.iloc[::, 1::].T\n",
        "\n",
        "avg = data2_2000_[5].mean()\n",
        "\n",
        "res = data2_2000_.loc[data2_2000_[5] >= avg]\n",
        "\n",
        "print(len(res.index.tolist()))"
      ],
      "metadata": {
        "colab": {
          "base_uri": "https://localhost:8080/"
        },
        "id": "ctAoaNijOB93",
        "outputId": "63334786-c421-4b02-8c6b-7bc009d77c5f"
      },
      "execution_count": 39,
      "outputs": [
        {
          "output_type": "stream",
          "name": "stdout",
          "text": [
            "7\n"
          ]
        }
      ]
    },
    {
      "cell_type": "code",
      "source": [
        "data3 = pd.read_csv('/content/drive/MyDrive/Colab Notebooks/실습3/3rd_titanic.csv')\n",
        "\n",
        "print(data3.isnull().sum().to_frame('nulls').sort_values(by=\"nulls\", ascending = False).index[0])"
      ],
      "metadata": {
        "colab": {
          "base_uri": "https://localhost:8080/"
        },
        "id": "ZoqfnToLQPJB",
        "outputId": "dc6b3f6e-9001-4df6-a0be-165a3fddbaa7"
      },
      "execution_count": 45,
      "outputs": [
        {
          "output_type": "stream",
          "name": "stdout",
          "text": [
            "Age\n"
          ]
        }
      ]
    },
    {
      "cell_type": "code",
      "source": [
        "train = pd.read_csv('/content/drive/MyDrive/Colab Notebooks/실습3/3rd_TravelInsurancePrediction_train.csv')\n",
        "test  = pd.read_csv('/content/drive/MyDrive/Colab Notebooks/실습3/3rd_TravelInsurancePrediction_test.csv')\n",
        "\n",
        "x_train_num = train[['Age', 'AnnualIncome', 'FamilyMembers', 'ChronicDiseases']]\n",
        "x_train_char = train[['Employment Type', 'GraduateOrNot', 'FrequentFlyer', 'EverTravelledAbroad']]\n",
        "x_train_char = pd.get_dummies(x_train_char)\n",
        "y_train = train['TravelInsurance']\n",
        "\n",
        "x_test_num = test[['Age', 'AnnualIncome', 'FamilyMembers', 'ChronicDiseases']]\n",
        "x_test_char = test[['Employment Type', 'GraduateOrNot', 'FrequentFlyer', 'EverTravelledAbroad']]\n",
        "x_test_char = pd.get_dummies(x_test_char)\n",
        "\n",
        "x_train_char, x_test_char = x_train_char.align(x_test_char, join = 'inner', axis = 1)\n",
        "\n",
        "from sklearn.preprocessing import MinMaxScaler\n",
        "scaler = MinMaxScaler()\n",
        "scaler.fit(x_train_num)\n",
        "x_train_scaled_num = scaler.transform(x_train_num)\n",
        "x_test_scaled_num  = scaler.transform(x_test_num)\n",
        "\n",
        "x_final_train = pd.concat([pd.DataFrame(x_train_scaled_num), x_train_char], axis = 1)\n",
        "x_final_test  = pd.concat([pd.DataFrame(x_test_scaled_num),  x_test_char] , axis = 1)\n",
        "\n",
        "x_final_train.columns = x_final_train.columns.astype(str)\n",
        "x_final_test.columns  = x_final_test.columns.astype(str)\n",
        "\n",
        "from sklearn.linear_model import LogisticRegression\n",
        "model = LogisticRegression()\n",
        "model.fit(x_final_train, y_train)\n",
        "\n",
        "pred_test = model.predict_proba(x_final_test)\n",
        "pred_test_prob = pd.DataFrame(pred_test[:, 1], columns=['travel prob'])\n",
        "final_result = pd.concat([test['ID'], pred_test_prob], axis = 1)\n",
        "\n",
        "print(final_result)\n",
        "final_result.to_csv('/content/drive/MyDrive/Colab Notebooks/실습3/230613.csv', index = False)"
      ],
      "metadata": {
        "colab": {
          "base_uri": "https://localhost:8080/"
        },
        "id": "4sHw_zVKQ26G",
        "outputId": "22089a4e-8728-43b7-e138-730e8b5e2c53"
      },
      "execution_count": 67,
      "outputs": [
        {
          "output_type": "stream",
          "name": "stdout",
          "text": [
            "       ID  travel prob\n",
            "0    1501     0.194956\n",
            "1    1502     0.240083\n",
            "2    1503     0.146343\n",
            "3    1504     0.221859\n",
            "4    1505     0.107461\n",
            "..    ...          ...\n",
            "481  1982     0.882596\n",
            "482  1983     0.856961\n",
            "483  1984     0.352863\n",
            "484  1985     0.843832\n",
            "485  1986     0.190882\n",
            "\n",
            "[486 rows x 2 columns]\n"
          ]
        }
      ]
    }
  ]
}