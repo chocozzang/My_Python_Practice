{
  "nbformat": 4,
  "nbformat_minor": 0,
  "metadata": {
    "colab": {
      "provenance": [],
      "authorship_tag": "ABX9TyMmoyYJGSThMz8GJUNEee5D",
      "include_colab_link": true
    },
    "kernelspec": {
      "name": "python3",
      "display_name": "Python 3"
    },
    "language_info": {
      "name": "python"
    }
  },
  "cells": [
    {
      "cell_type": "markdown",
      "metadata": {
        "id": "view-in-github",
        "colab_type": "text"
      },
      "source": [
        "<a href=\"https://colab.research.google.com/github/chocozzang/My_Python_Practice/blob/main/%EC%A0%9C2%ED%9A%8C%EC%8B%A4%EA%B8%B0%EA%B8%B0%EC%B6%9C%EB%AC%B8%EC%A0%9C.ipynb\" target=\"_parent\"><img src=\"https://colab.research.google.com/assets/colab-badge.svg\" alt=\"Open In Colab\"/></a>"
      ]
    },
    {
      "cell_type": "code",
      "execution_count": 1,
      "metadata": {
        "colab": {
          "base_uri": "https://localhost:8080/"
        },
        "id": "vLJIwwvbsj9q",
        "outputId": "08abec32-a1e3-4710-98d4-04b71722da15"
      },
      "outputs": [
        {
          "output_type": "stream",
          "name": "stdout",
          "text": [
            "Mounted at /content/drive\n"
          ]
        }
      ],
      "source": [
        "from google.colab import drive\n",
        "drive.mount('/content/drive')"
      ]
    },
    {
      "cell_type": "code",
      "source": [
        "import warnings\n",
        "warnings.filterwarnings('ignore')\n",
        "\n",
        "import pandas as pd\n",
        "data = pd.read_csv('/content/drive/MyDrive/Colab Notebooks/BostonHousing.csv')"
      ],
      "metadata": {
        "id": "fXkKvHHsssZe"
      },
      "execution_count": 2,
      "outputs": []
    },
    {
      "cell_type": "code",
      "source": [
        "data_sort = data.sort_values(by='crim', ascending=False)\n",
        "\n",
        "crim_topten = data_sort.head(10)\n",
        "last_val = crim_topten.crim.values[9]\n",
        "\n",
        "def crims(x):\n",
        "  if x >= last_val:\n",
        "    return last_val\n",
        "  else:\n",
        "    return x\n",
        "\n",
        "data_sort['crim'] = data_sort['crim'].apply(crims)\n",
        "\n",
        "data_sort_age = data_sort.loc[data_sort['age'] >= 80]\n",
        "\n",
        "print(data_sort_age.crim.mean())"
      ],
      "metadata": {
        "colab": {
          "base_uri": "https://localhost:8080/"
        },
        "id": "u854631Js96e",
        "outputId": "108b2f8e-33cb-4f1d-c55a-fa3b037eccd6"
      },
      "execution_count": 11,
      "outputs": [
        {
          "output_type": "stream",
          "name": "stdout",
          "text": [
            "5.759386625\n"
          ]
        }
      ]
    },
    {
      "cell_type": "code",
      "source": [
        "data2 = pd.read_csv('/content/drive/MyDrive/Colab Notebooks/housing.csv')"
      ],
      "metadata": {
        "id": "UZru7BTyv0WO"
      },
      "execution_count": 12,
      "outputs": []
    },
    {
      "cell_type": "code",
      "source": [
        "#data2_nonan = data2.dropna()\n",
        "\n",
        "last = (int)(len(data2) * 0.8)\n",
        "\n",
        "data2_80percent = data2.iloc[0:last:, ::]\n",
        "\n",
        "std1 = data2_80percent.total_bedrooms.std()\n",
        "\n",
        "data2_80percent_nonan = data2_80percent.dropna()\n",
        "\n",
        "med = data2_80percent_nonan.total_bedrooms.median()\n",
        "\n",
        "data2_80percent = data2_80percent.fillna(med)\n",
        "\n",
        "std2 = data2_80percent.total_bedrooms.std()\n",
        "\n",
        "print(abs(std1 - std2))"
      ],
      "metadata": {
        "colab": {
          "base_uri": "https://localhost:8080/"
        },
        "id": "G_RnJGC8wMEF",
        "outputId": "621819c2-3153-440e-aa3d-7ce7426e6aa5"
      },
      "execution_count": 27,
      "outputs": [
        {
          "output_type": "stream",
          "name": "stdout",
          "text": [
            "435.90057705252616\n",
            "433.9254297608805\n",
            "1.9751472916456692\n"
          ]
        }
      ]
    },
    {
      "cell_type": "code",
      "source": [
        "data3 = pd.read_csv('/content/drive/MyDrive/Colab Notebooks/insurance.csv')"
      ],
      "metadata": {
        "id": "KMMqFGfAyAIM"
      },
      "execution_count": 28,
      "outputs": []
    },
    {
      "cell_type": "code",
      "source": [
        "mean = data3.expenses.mean()\n",
        "std  = data3.expenses.std()\n",
        "unnormal = mean + std * 1.5\n",
        "unnormal2 = mean - std * 1.5\n",
        "\n",
        "notnormal = data3.loc[(data3.expenses >= unnormal) | (data3.expenses <= unnormal2)]\n",
        "print((int)(notnormal.expenses.sum()))"
      ],
      "metadata": {
        "colab": {
          "base_uri": "https://localhost:8080/"
        },
        "id": "yg6DJp0JyRY9",
        "outputId": "2ac03ebe-46c5-48d7-ad71-fa8f8b4741ee"
      },
      "execution_count": 35,
      "outputs": [
        {
          "output_type": "stream",
          "name": "stdout",
          "text": [
            "6421430\n"
          ]
        }
      ]
    },
    {
      "cell_type": "code",
      "source": [
        "data3 = pd.read_csv('/content/drive/MyDrive/Colab Notebooks/Train.csv')"
      ],
      "metadata": {
        "id": "UPLjiXkcze2r"
      },
      "execution_count": 36,
      "outputs": []
    },
    {
      "cell_type": "code",
      "source": [
        "x_train = pd.read_csv('/content/drive/MyDrive/Colab Notebooks/실습2/X_train.csv')\n",
        "x_test = pd.read_csv('/content/drive/MyDrive/Colab Notebooks/실습2/X_test.csv')\n",
        "y_train = pd.read_csv('/content/drive/MyDrive/Colab Notebooks/실습2/y_train.csv')\n",
        "\n",
        "x_train_num = x_train[['Customer_care_calls', 'Customer_rating', 'Cost_of_the_Product', 'Prior_purchases', 'Discount_offered', 'Weight_in_gms']]\n",
        "x_test_num  = x_test[['Customer_care_calls', 'Customer_rating', 'Cost_of_the_Product', 'Prior_purchases', 'Discount_offered', 'Weight_in_gms']]\n",
        "\n",
        "x_train_char = x_train[['Warehouse_block', 'Mode_of_Shipment', 'Product_importance', 'Gender']]\n",
        "x_train_char = pd.get_dummies(x_train_char)\n",
        "x_test_char =  x_test[['Warehouse_block', 'Mode_of_Shipment', 'Product_importance', 'Gender']]\n",
        "x_test_char = pd.get_dummies(x_test_char)\n",
        "\n",
        "x_train_char, x_test_char = x_train_char.align(x_test_char, join='inner', axis=1)\n",
        "\n",
        "from sklearn.preprocessing import MinMaxScaler\n",
        "scaler = MinMaxScaler()\n",
        "scaler.fit(x_train_num)\n",
        "x_scaled_train_num = scaler.transform(x_train_num)\n",
        "x_scaled_test_num  = scaler.transform(x_test_num)\n",
        "\n",
        "x_scaled_train_num = pd.DataFrame(x_scaled_train_num)\n",
        "x_scaled_train_num.columns = x_scaled_train_num.columns.astype(str)\n",
        "x_scaled_test_num = pd.DataFrame(x_scaled_test_num)\n",
        "x_scaled_test_num.columns = x_scaled_test_num.columns.astype(str)\n",
        "\n",
        "x_train_final = pd.concat([pd.DataFrame(x_scaled_train_num), x_train_char], axis = 1)\n",
        "x_test_final  = pd.concat([pd.DataFrame(x_scaled_test_num), x_test_char], axis = 1)\n",
        "\n",
        "y = y_train['Reached.on.Time_Y.N']\n",
        "\n",
        "from sklearn.linear_model import LogisticRegression\n",
        "model = LogisticRegression()\n",
        "model.fit(x_train_final, y)\n",
        "\n",
        "pred_test = model.predict_proba(x_test_final)\n",
        "pred_test_prob = pd.DataFrame(pred_test[:, 0], columns=['predict_prob'])\n",
        "final_predict = pd.concat([x_test.ID, pred_test_prob], axis = 1)\n",
        "\n",
        "print(final_predict)\n",
        "final_predict.to_csv('/content/drive/MyDrive/Colab Notebooks/실습2/230612.csv', index = False)"
      ],
      "metadata": {
        "colab": {
          "base_uri": "https://localhost:8080/"
        },
        "id": "GdF73AiBzg_L",
        "outputId": "487f22ac-5914-4b04-b7e5-e6f7fa307e9f"
      },
      "execution_count": 70,
      "outputs": [
        {
          "output_type": "stream",
          "name": "stdout",
          "text": [
            "         ID  predict_prob\n",
            "0      8800      0.476627\n",
            "1      8801      0.054384\n",
            "2      8802      0.587132\n",
            "3      8803      0.010297\n",
            "4      8804      0.456478\n",
            "...     ...           ...\n",
            "2195  10995      0.343253\n",
            "2196  10996      0.523670\n",
            "2197  10997      0.409480\n",
            "2198  10998      0.378750\n",
            "2199  10999      0.555931\n",
            "\n",
            "[2200 rows x 2 columns]\n"
          ]
        }
      ]
    }
  ]
}
