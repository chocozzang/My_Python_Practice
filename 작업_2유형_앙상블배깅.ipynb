{
  "nbformat": 4,
  "nbformat_minor": 0,
  "metadata": {
    "colab": {
      "provenance": [],
      "authorship_tag": "ABX9TyNAYOfbxOe+Gg4M+0bvqBax",
      "include_colab_link": true
    },
    "kernelspec": {
      "name": "python3",
      "display_name": "Python 3"
    },
    "language_info": {
      "name": "python"
    }
  },
  "cells": [
    {
      "cell_type": "markdown",
      "metadata": {
        "id": "view-in-github",
        "colab_type": "text"
      },
      "source": [
        "<a href=\"https://colab.research.google.com/github/chocozzang/My_Python_Practice/blob/main/%EC%9E%91%EC%97%85_2%EC%9C%A0%ED%98%95_%EC%95%99%EC%83%81%EB%B8%94%EB%B0%B0%EA%B9%85.ipynb\" target=\"_parent\"><img src=\"https://colab.research.google.com/assets/colab-badge.svg\" alt=\"Open In Colab\"/></a>"
      ]
    },
    {
      "cell_type": "code",
      "execution_count": 2,
      "metadata": {
        "colab": {
          "base_uri": "https://localhost:8080/"
        },
        "id": "kvLrc-KKTi2F",
        "outputId": "769e5293-dd0e-45bd-fbdc-74d7604ea993"
      },
      "outputs": [
        {
          "output_type": "stream",
          "name": "stdout",
          "text": [
            "Mounted at /content/drive\n"
          ]
        }
      ],
      "source": [
        "from google.colab import drive\n",
        "drive.mount('/content/drive')"
      ]
    },
    {
      "cell_type": "code",
      "source": [
        "import warnings\n",
        "warnings.filterwarnings('ignore')\n",
        "\n",
        "import pandas as pd\n",
        "\n",
        "data = pd.read_csv('/content/drive/MyDrive/Colab Notebooks/breast-cancer-wisconsin.csv', encoding='utf-8')\n",
        "\n",
        "data = data.loc[data.bare_nucleoli.str.isnumeric()]\n",
        "\n",
        "x = data[data.columns[1:10]]\n",
        "y = data[['class']]"
      ],
      "metadata": {
        "id": "zD2qxUWEVCHp"
      },
      "execution_count": 9,
      "outputs": []
    },
    {
      "cell_type": "code",
      "source": [
        "from sklearn.model_selection import train_test_split\n",
        "\n",
        "x_train, x_test, y_train, y_test = train_test_split(x, y, stratify = y, random_state = 42)"
      ],
      "metadata": {
        "id": "NEQMfugIVq4a"
      },
      "execution_count": 10,
      "outputs": []
    },
    {
      "cell_type": "code",
      "source": [
        "from sklearn.preprocessing import MinMaxScaler\n",
        "\n",
        "scaler = MinMaxScaler()\n",
        "scaler.fit(x_train)\n",
        "x_scaled_train = scaler.transform(x_train)\n",
        "x_scaled_test  = scaler.transform(x_test)"
      ],
      "metadata": {
        "id": "ecrGmvzcV2JV"
      },
      "execution_count": 11,
      "outputs": []
    },
    {
      "cell_type": "code",
      "source": [
        "from sklearn.svm import SVC\n",
        "from sklearn.ensemble import BaggingClassifier\n",
        "\n",
        "model = BaggingClassifier(base_estimator = SVC(), n_estimators = 10, random_state = 0)\n",
        "model.fit(x_scaled_train, y_train)\n",
        "pred_train = model.predict(x_scaled_train)\n",
        "model.score(x_scaled_train, y_train)"
      ],
      "metadata": {
        "colab": {
          "base_uri": "https://localhost:8080/"
        },
        "id": "GT751KY8XVJ_",
        "outputId": "1f4ef42d-2f70-4607-807a-4a1b71484894"
      },
      "execution_count": 12,
      "outputs": [
        {
          "output_type": "execute_result",
          "data": {
            "text/plain": [
              "0.982421875"
            ]
          },
          "metadata": {},
          "execution_count": 12
        }
      ]
    },
    {
      "cell_type": "code",
      "source": [
        "from sklearn.metrics import confusion_matrix\n",
        "\n",
        "cm = confusion_matrix(y_train, pred_train)\n",
        "print(\"train data confusion matrix : \\n\", cm)"
      ],
      "metadata": {
        "colab": {
          "base_uri": "https://localhost:8080/"
        },
        "id": "zQOfIqCeYDLV",
        "outputId": "07163310-2f0b-4a9d-a855-103564be6d2d"
      },
      "execution_count": 13,
      "outputs": [
        {
          "output_type": "stream",
          "name": "stdout",
          "text": [
            "train data confusion matrix : \n",
            " [[329   4]\n",
            " [  5 174]]\n"
          ]
        }
      ]
    },
    {
      "cell_type": "code",
      "source": [
        "from sklearn.metrics import classification_report\n",
        "\n",
        "cr = classification_report(y_train, pred_train)\n",
        "print(\"train data classification report \\n\", cr)"
      ],
      "metadata": {
        "colab": {
          "base_uri": "https://localhost:8080/"
        },
        "id": "8Jk5k2flYPtl",
        "outputId": "f4d5a7e7-08da-4076-8ed9-8f223daad090"
      },
      "execution_count": 14,
      "outputs": [
        {
          "output_type": "stream",
          "name": "stdout",
          "text": [
            "train data classification report \n",
            "               precision    recall  f1-score   support\n",
            "\n",
            "           2       0.99      0.99      0.99       333\n",
            "           4       0.98      0.97      0.97       179\n",
            "\n",
            "    accuracy                           0.98       512\n",
            "   macro avg       0.98      0.98      0.98       512\n",
            "weighted avg       0.98      0.98      0.98       512\n",
            "\n"
          ]
        }
      ]
    },
    {
      "cell_type": "code",
      "source": [
        "pred_test = model.predict(x_scaled_test)\n",
        "model.score(x_scaled_test, y_test)"
      ],
      "metadata": {
        "colab": {
          "base_uri": "https://localhost:8080/"
        },
        "id": "NQ3pKtgGYdtZ",
        "outputId": "2c31a47b-0121-4772-f390-c0130e753eca"
      },
      "execution_count": 16,
      "outputs": [
        {
          "output_type": "execute_result",
          "data": {
            "text/plain": [
              "0.9590643274853801"
            ]
          },
          "metadata": {},
          "execution_count": 16
        }
      ]
    },
    {
      "cell_type": "code",
      "source": [
        "from sklearn.metrics import confusion_matrix\n",
        "\n",
        "cm2 = confusion_matrix(y_test, pred_test)\n",
        "print(\"test data confusion matrix \\n\", cm2)"
      ],
      "metadata": {
        "colab": {
          "base_uri": "https://localhost:8080/"
        },
        "id": "jGkWIeLsYsGv",
        "outputId": "a63d098e-990a-4588-c0a8-43b4160abbfe"
      },
      "execution_count": 18,
      "outputs": [
        {
          "output_type": "stream",
          "name": "stdout",
          "text": [
            "test data confusion matrix \n",
            " [[106   5]\n",
            " [  2  58]]\n"
          ]
        }
      ]
    },
    {
      "cell_type": "code",
      "source": [
        "from sklearn.metrics import classification_report\n",
        "\n",
        "cr2 = classification_report(y_test, pred_test)\n",
        "print(\"test data classification report \\n\", cr2)"
      ],
      "metadata": {
        "colab": {
          "base_uri": "https://localhost:8080/"
        },
        "id": "3n3duvx-Y20y",
        "outputId": "6c2f4994-f53c-4084-b8dd-1c1deb1dae7e"
      },
      "execution_count": 19,
      "outputs": [
        {
          "output_type": "stream",
          "name": "stdout",
          "text": [
            "test data classification report \n",
            "               precision    recall  f1-score   support\n",
            "\n",
            "           2       0.98      0.95      0.97       111\n",
            "           4       0.92      0.97      0.94        60\n",
            "\n",
            "    accuracy                           0.96       171\n",
            "   macro avg       0.95      0.96      0.96       171\n",
            "weighted avg       0.96      0.96      0.96       171\n",
            "\n"
          ]
        }
      ]
    },
    {
      "cell_type": "code",
      "source": [
        "data2 = pd.read_csv('/content/drive/MyDrive/Colab Notebooks/house_price.csv', encoding='utf-8')\n",
        "\n",
        "x2 = data2[data2.columns[1:5]]\n",
        "y2 = data2[['house_value']]"
      ],
      "metadata": {
        "id": "hrk7ClnmZCYl"
      },
      "execution_count": 37,
      "outputs": []
    },
    {
      "cell_type": "code",
      "source": [
        "x_train2, x_test2, y_train2, y_test2 = train_test_split(x2, y2, random_state = 42)"
      ],
      "metadata": {
        "id": "UGGHKd2DZW1V"
      },
      "execution_count": 38,
      "outputs": []
    },
    {
      "cell_type": "code",
      "source": [
        "scaler2 = MinMaxScaler()\n",
        "scaler2.fit(x_train2)\n",
        "x_scaled_train2 = scaler2.transform(x_train2)\n",
        "x_scaled_test2 = scaler2.transform(x_test2)"
      ],
      "metadata": {
        "id": "GZdFVXexZfom"
      },
      "execution_count": 39,
      "outputs": []
    },
    {
      "cell_type": "code",
      "source": [
        "from sklearn.neighbors import KNeighborsRegressor\n",
        "from sklearn.ensemble  import BaggingRegressor\n",
        "\n",
        "model2 = BaggingRegressor(base_estimator = KNeighborsRegressor(), n_estimators = 10, random_state = 0)\n",
        "model2.fit(x_scaled_train2, y_train2)\n",
        "pred_train2 = model2.predict(x_scaled_train2)\n",
        "model2.score(x_scaled_train2, y_train2)"
      ],
      "metadata": {
        "colab": {
          "base_uri": "https://localhost:8080/"
        },
        "id": "mwl8BZ2eZsGB",
        "outputId": "24567d71-5abd-423f-9b65-fda2036af858"
      },
      "execution_count": 42,
      "outputs": [
        {
          "output_type": "execute_result",
          "data": {
            "text/plain": [
              "0.6928982134381334"
            ]
          },
          "metadata": {},
          "execution_count": 42
        }
      ]
    },
    {
      "cell_type": "code",
      "source": [
        "pred_test2 = model2.predict(x_scaled_test2)\n",
        "model2.score(x_scaled_test2, y_test2)"
      ],
      "metadata": {
        "colab": {
          "base_uri": "https://localhost:8080/"
        },
        "id": "P3r2IIzcbQAS",
        "outputId": "0843bb23-4347-4d40-e0ba-62ff46f87229"
      },
      "execution_count": 43,
      "outputs": [
        {
          "output_type": "execute_result",
          "data": {
            "text/plain": [
              "0.5612676280708411"
            ]
          },
          "metadata": {},
          "execution_count": 43
        }
      ]
    },
    {
      "cell_type": "code",
      "source": [
        "import numpy as np\n",
        "from sklearn.metrics import mean_squared_error\n",
        "\n",
        "MSE_train = mean_squared_error(y_train2, pred_train2)\n",
        "MSE_test  = mean_squared_error(y_test2,  pred_test2)\n",
        "\n",
        "print(\"RMSE TRAIN : \", np.sqrt(MSE_train))\n",
        "print(\"RMSE TEST  : \", np.sqrt(MSE_test))"
      ],
      "metadata": {
        "colab": {
          "base_uri": "https://localhost:8080/"
        },
        "id": "1dV4DchIbWzX",
        "outputId": "6ada47bb-0d66-4828-ce9e-ededf7f475d3"
      },
      "execution_count": 44,
      "outputs": [
        {
          "output_type": "stream",
          "name": "stdout",
          "text": [
            "RMSE TRAIN :  52892.27111989147\n",
            "RMSE TEST  :  63323.12131927774\n"
          ]
        }
      ]
    }
  ]
}