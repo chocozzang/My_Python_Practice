{
  "nbformat": 4,
  "nbformat_minor": 0,
  "metadata": {
    "colab": {
      "provenance": [],
      "authorship_tag": "ABX9TyNViuXliel2osEMzamniJYf",
      "include_colab_link": true
    },
    "kernelspec": {
      "name": "python3",
      "display_name": "Python 3"
    },
    "language_info": {
      "name": "python"
    }
  },
  "cells": [
    {
      "cell_type": "markdown",
      "metadata": {
        "id": "view-in-github",
        "colab_type": "text"
      },
      "source": [
        "<a href=\"https://colab.research.google.com/github/chocozzang/My_Python_Practice/blob/main/%EC%9E%91%EC%97%85_2%EC%9C%A0%ED%98%95_%EC%95%99%EC%83%81%EB%B8%94%EC%8A%A4%ED%83%9C%ED%82%B9.ipynb\" target=\"_parent\"><img src=\"https://colab.research.google.com/assets/colab-badge.svg\" alt=\"Open In Colab\"/></a>"
      ]
    },
    {
      "cell_type": "code",
      "execution_count": 1,
      "metadata": {
        "colab": {
          "base_uri": "https://localhost:8080/"
        },
        "id": "UhhRqYXamsIX",
        "outputId": "c975492b-daa6-4d2d-cbdd-edf926e5025e"
      },
      "outputs": [
        {
          "output_type": "stream",
          "name": "stdout",
          "text": [
            "Mounted at /content/drive\n"
          ]
        }
      ],
      "source": [
        "from google.colab import drive\n",
        "drive.mount('/content/drive')"
      ]
    },
    {
      "cell_type": "code",
      "source": [
        "import warnings\n",
        "warnings.filterwarnings(\"ignore\")\n",
        "\n",
        "import pandas as pd\n",
        "data = pd.read_csv('/content/drive/MyDrive/Colab Notebooks/breast-cancer-wisconsin.csv', encoding='utf-8')\n",
        "\n",
        "data = data.loc[data['bare_nucleoli'].str.isnumeric()]\n",
        "\n",
        "x = data[data.columns[1:10]]\n",
        "y = data[['class']]"
      ],
      "metadata": {
        "id": "CM5ysSEHpMwB"
      },
      "execution_count": 2,
      "outputs": []
    },
    {
      "cell_type": "code",
      "source": [
        "from sklearn.model_selection import train_test_split\n",
        "x_train, x_test, y_train, y_test = train_test_split(x, y, stratify = y, random_state = 42)\n",
        "\n",
        "from sklearn.preprocessing import MinMaxScaler\n",
        "scaler = MinMaxScaler()\n",
        "scaler.fit(x_train)\n",
        "x_scaled_train = scaler.transform(x_train)\n",
        "x_scaled_test  = scaler.transform(x_test)"
      ],
      "metadata": {
        "id": "_1wfrxHjqJsN"
      },
      "execution_count": 3,
      "outputs": []
    },
    {
      "cell_type": "code",
      "source": [
        "from sklearn.ensemble import RandomForestClassifier\n",
        "from sklearn.svm import SVC\n",
        "from sklearn.ensemble import StackingClassifier\n",
        "from sklearn.linear_model import LogisticRegression\n",
        "\n",
        "estimators = [('lr', RandomForestClassifier(n_estimators = 10, random_state = 42)), ('svr', SVC(random_state = 42))]\n",
        "model = StackingClassifier(estimators = estimators, final_estimator = LogisticRegression())\n",
        "\n",
        "model.fit(x_scaled_train, y_train)\n",
        "pred_train = model.predict(x_scaled_train)\n",
        "model.score(x_scaled_train, y_train)"
      ],
      "metadata": {
        "colab": {
          "base_uri": "https://localhost:8080/"
        },
        "id": "FXQpiX7Lql0h",
        "outputId": "7bddd988-7ed9-48cd-9dc5-0273e3fb67c0"
      },
      "execution_count": 4,
      "outputs": [
        {
          "output_type": "execute_result",
          "data": {
            "text/plain": [
              "0.986328125"
            ]
          },
          "metadata": {},
          "execution_count": 4
        }
      ]
    },
    {
      "cell_type": "code",
      "source": [
        "from sklearn.metrics import confusion_matrix\n",
        "\n",
        "cm = confusion_matrix(y_train, pred_train)\n",
        "print(\"train data confusion matrix\\n\", cm)"
      ],
      "metadata": {
        "colab": {
          "base_uri": "https://localhost:8080/"
        },
        "id": "My7SdgMQs9HI",
        "outputId": "78ec5f1f-b58c-4405-94f2-e6f0f9923df8"
      },
      "execution_count": 5,
      "outputs": [
        {
          "output_type": "stream",
          "name": "stdout",
          "text": [
            "train data confusion matrix\n",
            " [[330   3]\n",
            " [  4 175]]\n"
          ]
        }
      ]
    },
    {
      "cell_type": "code",
      "source": [
        "from sklearn.metrics import classification_report\n",
        "\n",
        "cr = classification_report(y_train, pred_train)\n",
        "print(\"train data classification report\", cr)"
      ],
      "metadata": {
        "colab": {
          "base_uri": "https://localhost:8080/"
        },
        "id": "QWAoorNztZxT",
        "outputId": "2980ccce-57f9-4356-c598-59292e216e34"
      },
      "execution_count": 7,
      "outputs": [
        {
          "output_type": "stream",
          "name": "stdout",
          "text": [
            "train data classification report               precision    recall  f1-score   support\n",
            "\n",
            "           2       0.99      0.99      0.99       333\n",
            "           4       0.98      0.98      0.98       179\n",
            "\n",
            "    accuracy                           0.99       512\n",
            "   macro avg       0.99      0.98      0.98       512\n",
            "weighted avg       0.99      0.99      0.99       512\n",
            "\n"
          ]
        }
      ]
    },
    {
      "cell_type": "code",
      "source": [
        "pred_test = model.predict(x_scaled_test)\n",
        "model.score(x_scaled_test, y_test)"
      ],
      "metadata": {
        "colab": {
          "base_uri": "https://localhost:8080/"
        },
        "id": "uZkcQujruXas",
        "outputId": "f6dacd14-2d82-46a6-b66a-8df2494f2853"
      },
      "execution_count": 8,
      "outputs": [
        {
          "output_type": "execute_result",
          "data": {
            "text/plain": [
              "0.9649122807017544"
            ]
          },
          "metadata": {},
          "execution_count": 8
        }
      ]
    },
    {
      "cell_type": "code",
      "source": [
        "cm2 = confusion_matrix(y_test, pred_test)\n",
        "print(\"test data confusion matrix \\n\", cm2)"
      ],
      "metadata": {
        "colab": {
          "base_uri": "https://localhost:8080/"
        },
        "id": "jGuDt7Mnudqk",
        "outputId": "f6cce5bd-aef0-426c-dd85-1d68b03cfec3"
      },
      "execution_count": 9,
      "outputs": [
        {
          "output_type": "stream",
          "name": "stdout",
          "text": [
            "test data confusion matrix \n",
            " [[106   5]\n",
            " [  1  59]]\n"
          ]
        }
      ]
    },
    {
      "cell_type": "code",
      "source": [
        "cr2 = classification_report(y_test, pred_test)\n",
        "print(\"test data classification report \\n\", cr2)"
      ],
      "metadata": {
        "colab": {
          "base_uri": "https://localhost:8080/"
        },
        "id": "s7xb1bLhvEAe",
        "outputId": "60dc4353-04f4-48f5-d56d-74d405073305"
      },
      "execution_count": 10,
      "outputs": [
        {
          "output_type": "stream",
          "name": "stdout",
          "text": [
            "test data classification report \n",
            "               precision    recall  f1-score   support\n",
            "\n",
            "           2       0.99      0.95      0.97       111\n",
            "           4       0.92      0.98      0.95        60\n",
            "\n",
            "    accuracy                           0.96       171\n",
            "   macro avg       0.96      0.97      0.96       171\n",
            "weighted avg       0.97      0.96      0.97       171\n",
            "\n"
          ]
        }
      ]
    },
    {
      "cell_type": "code",
      "source": [
        "data2 = pd.read_csv('/content/drive/MyDrive/Colab Notebooks/house_price.csv', encoding='utf-8')\n",
        "\n",
        "x2 = data2[data2.columns[1:5]]\n",
        "y2 = data2[['house_value']]\n",
        "\n",
        "x_train2, x_test2, y_train2, y_test2 = train_test_split(x2, y2, random_state = 42)\n",
        "\n",
        "scaler2 = MinMaxScaler()\n",
        "scaler2.fit(x_train2)\n",
        "x_scaled_train2 = scaler2.transform(x_train2)\n",
        "x_scaled_test2  = scaler2.transform(x_test2)"
      ],
      "metadata": {
        "id": "Wa-MYbuqv2PR"
      },
      "execution_count": 11,
      "outputs": []
    },
    {
      "cell_type": "code",
      "source": [
        "from sklearn.linear_model import LinearRegression\n",
        "from sklearn.neighbors import KNeighborsRegressor\n",
        "from sklearn.ensemble import StackingRegressor\n",
        "from sklearn.ensemble import RandomForestRegressor\n",
        "\n",
        "estimators2 = [('lr', LinearRegression()), ('knn', KNeighborsRegressor())]\n",
        "model2 = StackingRegressor(estimators = estimators2, final_estimator = RandomForestRegressor(n_estimators = 10, random_state = 42))\n",
        "model2.fit(x_scaled_train2, y_train2)\n",
        "pred_train2 = model2.predict(x_scaled_train2)\n",
        "model2.score(x_scaled_train2, y_train2)"
      ],
      "metadata": {
        "colab": {
          "base_uri": "https://localhost:8080/"
        },
        "id": "_i-Et4ujw5rt",
        "outputId": "80ec6880-64e8-4f23-e79f-c231cbb7013b"
      },
      "execution_count": 12,
      "outputs": [
        {
          "output_type": "execute_result",
          "data": {
            "text/plain": [
              "0.543404932348004"
            ]
          },
          "metadata": {},
          "execution_count": 12
        }
      ]
    },
    {
      "cell_type": "code",
      "source": [
        "pred_test2 = model2.predict(x_scaled_test2)\n",
        "model2.score(x_scaled_test2, y_test2)"
      ],
      "metadata": {
        "colab": {
          "base_uri": "https://localhost:8080/"
        },
        "id": "RW0z-aZU0Z8n",
        "outputId": "2b8f0805-67b5-4259-c61f-c5660f0f43bc"
      },
      "execution_count": 13,
      "outputs": [
        {
          "output_type": "execute_result",
          "data": {
            "text/plain": [
              "0.4781188528801523"
            ]
          },
          "metadata": {},
          "execution_count": 13
        }
      ]
    },
    {
      "cell_type": "code",
      "source": [
        "import numpy as np\n",
        "from sklearn.metrics import mean_squared_error\n",
        "\n",
        "MSE_train = mean_squared_error(y_train2, pred_train2)\n",
        "MSE_test  = mean_squared_error(y_test2, pred_test2)\n",
        "\n",
        "print(\"RMSE TRAIN : \", np.sqrt(MSE_train))\n",
        "print(\"RMSE TEST : \", np.sqrt(MSE_test))"
      ],
      "metadata": {
        "colab": {
          "base_uri": "https://localhost:8080/"
        },
        "id": "eBXqjh6t05al",
        "outputId": "d0952812-83c2-4fe1-9f70-925a64785e92"
      },
      "execution_count": 14,
      "outputs": [
        {
          "output_type": "stream",
          "name": "stdout",
          "text": [
            "RMSE TRAIN :  64493.60476580374\n",
            "RMSE TEST :  69063.45138802647\n"
          ]
        }
      ]
    }
  ]
}