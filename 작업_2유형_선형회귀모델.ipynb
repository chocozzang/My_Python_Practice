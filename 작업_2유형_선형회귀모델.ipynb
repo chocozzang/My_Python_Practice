{
  "nbformat": 4,
  "nbformat_minor": 0,
  "metadata": {
    "colab": {
      "provenance": [],
      "authorship_tag": "ABX9TyPMB5gUfpY5vG98yi1d/YcU",
      "include_colab_link": true
    },
    "kernelspec": {
      "name": "python3",
      "display_name": "Python 3"
    },
    "language_info": {
      "name": "python"
    }
  },
  "cells": [
    {
      "cell_type": "markdown",
      "metadata": {
        "id": "view-in-github",
        "colab_type": "text"
      },
      "source": [
        "<a href=\"https://colab.research.google.com/github/chocozzang/My_Python_Practice/blob/main/%EC%9E%91%EC%97%85_2%EC%9C%A0%ED%98%95_%EC%84%A0%ED%98%95%ED%9A%8C%EA%B7%80%EB%AA%A8%EB%8D%B8.ipynb\" target=\"_parent\"><img src=\"https://colab.research.google.com/assets/colab-badge.svg\" alt=\"Open In Colab\"/></a>"
      ]
    },
    {
      "cell_type": "code",
      "execution_count": 1,
      "metadata": {
        "colab": {
          "base_uri": "https://localhost:8080/"
        },
        "id": "mrHP_AMb1rH5",
        "outputId": "7a82c242-b945-4662-8154-089f0a390136"
      },
      "outputs": [
        {
          "output_type": "stream",
          "name": "stdout",
          "text": [
            "Mounted at /content/drive\n"
          ]
        }
      ],
      "source": [
        "from google.colab import drive\n",
        "drive.mount('/content/drive')"
      ]
    },
    {
      "cell_type": "code",
      "source": [
        "import warnings as wn\n",
        "wn.filterwarnings('ignore')\n",
        "\n",
        "import pandas as pd\n",
        "\n",
        "data = pd.read_csv('/content/drive/MyDrive/Colab Notebooks/house_price.csv', encoding='utf-8')\n",
        "\n",
        "x = data[data.columns[1:5]]\n",
        "y = data[['house_value']]\n",
        "\n",
        "from sklearn.model_selection import train_test_split\n",
        "x_train, x_test, y_train, y_test = train_test_split(x, y, random_state = 42)"
      ],
      "metadata": {
        "id": "Xug9I7_x3-Ae"
      },
      "execution_count": 5,
      "outputs": []
    },
    {
      "cell_type": "code",
      "source": [
        "import statsmodels.api as sm\n",
        "x_train_new = sm.add_constant(x_train)\n",
        "x_test_new  = sm.add_constant(x_test)\n",
        "x_train_new.head()"
      ],
      "metadata": {
        "colab": {
          "base_uri": "https://localhost:8080/",
          "height": 206
        },
        "id": "TDfFegvU42sK",
        "outputId": "dde3530f-ae0d-4107-e714-d2a3f57bdcf7"
      },
      "execution_count": 6,
      "outputs": [
        {
          "output_type": "execute_result",
          "data": {
            "text/plain": [
              "       const  income  bedrooms  households     rooms\n",
              "17235    1.0  2.0577  0.185449    3.945455  6.372727\n",
              "14220    1.0  4.0000  0.171566    2.741497  6.363946\n",
              "3280     1.0  5.8904  0.154485    2.969325  6.651840\n",
              "15279    1.0  0.9393  0.241460    3.257256  4.518470\n",
              "14727    1.0  2.7143  0.194977    2.679287  6.385301"
            ],
            "text/html": [
              "\n",
              "  <div id=\"df-e84ab50a-23ad-42fa-a8b1-ed8fb1db0f66\">\n",
              "    <div class=\"colab-df-container\">\n",
              "      <div>\n",
              "<style scoped>\n",
              "    .dataframe tbody tr th:only-of-type {\n",
              "        vertical-align: middle;\n",
              "    }\n",
              "\n",
              "    .dataframe tbody tr th {\n",
              "        vertical-align: top;\n",
              "    }\n",
              "\n",
              "    .dataframe thead th {\n",
              "        text-align: right;\n",
              "    }\n",
              "</style>\n",
              "<table border=\"1\" class=\"dataframe\">\n",
              "  <thead>\n",
              "    <tr style=\"text-align: right;\">\n",
              "      <th></th>\n",
              "      <th>const</th>\n",
              "      <th>income</th>\n",
              "      <th>bedrooms</th>\n",
              "      <th>households</th>\n",
              "      <th>rooms</th>\n",
              "    </tr>\n",
              "  </thead>\n",
              "  <tbody>\n",
              "    <tr>\n",
              "      <th>17235</th>\n",
              "      <td>1.0</td>\n",
              "      <td>2.0577</td>\n",
              "      <td>0.185449</td>\n",
              "      <td>3.945455</td>\n",
              "      <td>6.372727</td>\n",
              "    </tr>\n",
              "    <tr>\n",
              "      <th>14220</th>\n",
              "      <td>1.0</td>\n",
              "      <td>4.0000</td>\n",
              "      <td>0.171566</td>\n",
              "      <td>2.741497</td>\n",
              "      <td>6.363946</td>\n",
              "    </tr>\n",
              "    <tr>\n",
              "      <th>3280</th>\n",
              "      <td>1.0</td>\n",
              "      <td>5.8904</td>\n",
              "      <td>0.154485</td>\n",
              "      <td>2.969325</td>\n",
              "      <td>6.651840</td>\n",
              "    </tr>\n",
              "    <tr>\n",
              "      <th>15279</th>\n",
              "      <td>1.0</td>\n",
              "      <td>0.9393</td>\n",
              "      <td>0.241460</td>\n",
              "      <td>3.257256</td>\n",
              "      <td>4.518470</td>\n",
              "    </tr>\n",
              "    <tr>\n",
              "      <th>14727</th>\n",
              "      <td>1.0</td>\n",
              "      <td>2.7143</td>\n",
              "      <td>0.194977</td>\n",
              "      <td>2.679287</td>\n",
              "      <td>6.385301</td>\n",
              "    </tr>\n",
              "  </tbody>\n",
              "</table>\n",
              "</div>\n",
              "      <button class=\"colab-df-convert\" onclick=\"convertToInteractive('df-e84ab50a-23ad-42fa-a8b1-ed8fb1db0f66')\"\n",
              "              title=\"Convert this dataframe to an interactive table.\"\n",
              "              style=\"display:none;\">\n",
              "        \n",
              "  <svg xmlns=\"http://www.w3.org/2000/svg\" height=\"24px\"viewBox=\"0 0 24 24\"\n",
              "       width=\"24px\">\n",
              "    <path d=\"M0 0h24v24H0V0z\" fill=\"none\"/>\n",
              "    <path d=\"M18.56 5.44l.94 2.06.94-2.06 2.06-.94-2.06-.94-.94-2.06-.94 2.06-2.06.94zm-11 1L8.5 8.5l.94-2.06 2.06-.94-2.06-.94L8.5 2.5l-.94 2.06-2.06.94zm10 10l.94 2.06.94-2.06 2.06-.94-2.06-.94-.94-2.06-.94 2.06-2.06.94z\"/><path d=\"M17.41 7.96l-1.37-1.37c-.4-.4-.92-.59-1.43-.59-.52 0-1.04.2-1.43.59L10.3 9.45l-7.72 7.72c-.78.78-.78 2.05 0 2.83L4 21.41c.39.39.9.59 1.41.59.51 0 1.02-.2 1.41-.59l7.78-7.78 2.81-2.81c.8-.78.8-2.07 0-2.86zM5.41 20L4 18.59l7.72-7.72 1.47 1.35L5.41 20z\"/>\n",
              "  </svg>\n",
              "      </button>\n",
              "      \n",
              "  <style>\n",
              "    .colab-df-container {\n",
              "      display:flex;\n",
              "      flex-wrap:wrap;\n",
              "      gap: 12px;\n",
              "    }\n",
              "\n",
              "    .colab-df-convert {\n",
              "      background-color: #E8F0FE;\n",
              "      border: none;\n",
              "      border-radius: 50%;\n",
              "      cursor: pointer;\n",
              "      display: none;\n",
              "      fill: #1967D2;\n",
              "      height: 32px;\n",
              "      padding: 0 0 0 0;\n",
              "      width: 32px;\n",
              "    }\n",
              "\n",
              "    .colab-df-convert:hover {\n",
              "      background-color: #E2EBFA;\n",
              "      box-shadow: 0px 1px 2px rgba(60, 64, 67, 0.3), 0px 1px 3px 1px rgba(60, 64, 67, 0.15);\n",
              "      fill: #174EA6;\n",
              "    }\n",
              "\n",
              "    [theme=dark] .colab-df-convert {\n",
              "      background-color: #3B4455;\n",
              "      fill: #D2E3FC;\n",
              "    }\n",
              "\n",
              "    [theme=dark] .colab-df-convert:hover {\n",
              "      background-color: #434B5C;\n",
              "      box-shadow: 0px 1px 3px 1px rgba(0, 0, 0, 0.15);\n",
              "      filter: drop-shadow(0px 1px 2px rgba(0, 0, 0, 0.3));\n",
              "      fill: #FFFFFF;\n",
              "    }\n",
              "  </style>\n",
              "\n",
              "      <script>\n",
              "        const buttonEl =\n",
              "          document.querySelector('#df-e84ab50a-23ad-42fa-a8b1-ed8fb1db0f66 button.colab-df-convert');\n",
              "        buttonEl.style.display =\n",
              "          google.colab.kernel.accessAllowed ? 'block' : 'none';\n",
              "\n",
              "        async function convertToInteractive(key) {\n",
              "          const element = document.querySelector('#df-e84ab50a-23ad-42fa-a8b1-ed8fb1db0f66');\n",
              "          const dataTable =\n",
              "            await google.colab.kernel.invokeFunction('convertToInteractive',\n",
              "                                                     [key], {});\n",
              "          if (!dataTable) return;\n",
              "\n",
              "          const docLinkHtml = 'Like what you see? Visit the ' +\n",
              "            '<a target=\"_blank\" href=https://colab.research.google.com/notebooks/data_table.ipynb>data table notebook</a>'\n",
              "            + ' to learn more about interactive tables.';\n",
              "          element.innerHTML = '';\n",
              "          dataTable['output_type'] = 'display_data';\n",
              "          await google.colab.output.renderOutput(dataTable, element);\n",
              "          const docLink = document.createElement('div');\n",
              "          docLink.innerHTML = docLinkHtml;\n",
              "          element.appendChild(docLink);\n",
              "        }\n",
              "      </script>\n",
              "    </div>\n",
              "  </div>\n",
              "  "
            ]
          },
          "metadata": {},
          "execution_count": 6
        }
      ]
    },
    {
      "cell_type": "code",
      "source": [
        "multi_model = sm.OLS(y_train, x_train_new).fit()\n",
        "print(multi_model.summary() )"
      ],
      "metadata": {
        "colab": {
          "base_uri": "https://localhost:8080/"
        },
        "id": "OXHra6vC5LML",
        "outputId": "95071dec-c345-4c54-8976-697479eeed9b"
      },
      "execution_count": 7,
      "outputs": [
        {
          "output_type": "stream",
          "name": "stdout",
          "text": [
            "                            OLS Regression Results                            \n",
            "==============================================================================\n",
            "Dep. Variable:            house_value   R-squared:                       0.546\n",
            "Model:                            OLS   Adj. R-squared:                  0.545\n",
            "Method:                 Least Squares   F-statistic:                     3980.\n",
            "Date:                Tue, 06 Jun 2023   Prob (F-statistic):               0.00\n",
            "Time:                        08:48:49   Log-Likelihood:            -1.6570e+05\n",
            "No. Observations:               13266   AIC:                         3.314e+05\n",
            "Df Residuals:                   13261   BIC:                         3.315e+05\n",
            "Df Model:                           4                                         \n",
            "Covariance Type:            nonrobust                                         \n",
            "==============================================================================\n",
            "                 coef    std err          t      P>|t|      [0.025      0.975]\n",
            "------------------------------------------------------------------------------\n",
            "const      -2.849e+04   8884.093     -3.206      0.001   -4.59e+04   -1.11e+04\n",
            "income      5.588e+04    500.997    111.538      0.000    5.49e+04    5.69e+04\n",
            "bedrooms    5.586e+05   2.02e+04     27.637      0.000    5.19e+05    5.98e+05\n",
            "households -2.586e+04    775.128    -33.356      0.000   -2.74e+04   -2.43e+04\n",
            "rooms      -5810.6069    834.780     -6.961      0.000   -7446.896   -4174.318\n",
            "==============================================================================\n",
            "Omnibus:                     1975.541   Durbin-Watson:                   2.016\n",
            "Prob(Omnibus):                  0.000   Jarque-Bera (JB):             4568.878\n",
            "Skew:                           0.866   Prob(JB):                         0.00\n",
            "Kurtosis:                       5.294   Cond. No.                         284.\n",
            "==============================================================================\n",
            "\n",
            "Notes:\n",
            "[1] Standard Errors assume that the covariance matrix of the errors is correctly specified.\n"
          ]
        }
      ]
    },
    {
      "cell_type": "code",
      "source": [
        "multi_model2 = sm.OLS(y_test, x_test_new).fit()\n",
        "print(multi_model2.summary())"
      ],
      "metadata": {
        "colab": {
          "base_uri": "https://localhost:8080/"
        },
        "id": "PGHRM3JM5uwB",
        "outputId": "ae5ee0a1-4311-4ef7-eeb1-25c127d57062"
      },
      "execution_count": 8,
      "outputs": [
        {
          "output_type": "stream",
          "name": "stdout",
          "text": [
            "                            OLS Regression Results                            \n",
            "==============================================================================\n",
            "Dep. Variable:            house_value   R-squared:                       0.563\n",
            "Model:                            OLS   Adj. R-squared:                  0.562\n",
            "Method:                 Least Squares   F-statistic:                     1421.\n",
            "Date:                Tue, 06 Jun 2023   Prob (F-statistic):               0.00\n",
            "Time:                        08:51:19   Log-Likelihood:                -55169.\n",
            "No. Observations:                4423   AIC:                         1.103e+05\n",
            "Df Residuals:                    4418   BIC:                         1.104e+05\n",
            "Df Model:                           4                                         \n",
            "Covariance Type:            nonrobust                                         \n",
            "==============================================================================\n",
            "                 coef    std err          t      P>|t|      [0.025      0.975]\n",
            "------------------------------------------------------------------------------\n",
            "const      -2.196e+04   1.48e+04     -1.483      0.138    -5.1e+04    7075.709\n",
            "income       5.57e+04    838.452     66.426      0.000    5.41e+04    5.73e+04\n",
            "bedrooms    5.402e+05   3.44e+04     15.713      0.000    4.73e+05    6.08e+05\n",
            "households -2.603e+04   1270.717    -20.484      0.000   -2.85e+04   -2.35e+04\n",
            "rooms      -6039.8888   1344.918     -4.491      0.000   -8676.601   -3403.177\n",
            "==============================================================================\n",
            "Omnibus:                      688.606   Durbin-Watson:                   1.968\n",
            "Prob(Omnibus):                  0.000   Jarque-Bera (JB):             1499.714\n",
            "Skew:                           0.915   Prob(JB):                         0.00\n",
            "Kurtosis:                       5.188   Cond. No.                         284.\n",
            "==============================================================================\n",
            "\n",
            "Notes:\n",
            "[1] Standard Errors assume that the covariance matrix of the errors is correctly specified.\n"
          ]
        }
      ]
    },
    {
      "cell_type": "code",
      "source": [
        "from sklearn.preprocessing import MinMaxScaler\n",
        "\n",
        "scaler = MinMaxScaler()\n",
        "scaler.fit(x_train)\n",
        "x_scaled_train = scaler.transform(x_train)\n",
        "x_scaled_test = scaler.transform(x_test)"
      ],
      "metadata": {
        "id": "jy9hL5996vq5"
      },
      "execution_count": 9,
      "outputs": []
    },
    {
      "cell_type": "code",
      "source": [
        "from sklearn.linear_model import LinearRegression\n",
        "\n",
        "model = LinearRegression()\n",
        "model.fit(x_scaled_train, y_train)\n",
        "pred_train = model.predict(x_scaled_train)\n",
        "model.score(x_scaled_train, y_train)"
      ],
      "metadata": {
        "colab": {
          "base_uri": "https://localhost:8080/"
        },
        "id": "qTZzV4YP6mMg",
        "outputId": "06414013-f968-431d-a0d1-19b5f9193508"
      },
      "execution_count": 10,
      "outputs": [
        {
          "output_type": "execute_result",
          "data": {
            "text/plain": [
              "0.5455724996358273"
            ]
          },
          "metadata": {},
          "execution_count": 10
        }
      ]
    },
    {
      "cell_type": "code",
      "source": [
        "pred_test = model.predict(x_scaled_test)\n",
        "model.score(x_scaled_test, y_test)"
      ],
      "metadata": {
        "colab": {
          "base_uri": "https://localhost:8080/"
        },
        "id": "Q3RVxxBY7DOr",
        "outputId": "828744c5-6bfd-4c0f-8400-98f08a435bb5"
      },
      "execution_count": 11,
      "outputs": [
        {
          "output_type": "execute_result",
          "data": {
            "text/plain": [
              "0.5626843883587158"
            ]
          },
          "metadata": {},
          "execution_count": 11
        }
      ]
    },
    {
      "cell_type": "code",
      "source": [
        "# RMSE (ROOT MEAN SQUARED ERROR)\n",
        "\n",
        "import numpy as np\n",
        "from sklearn.metrics import mean_squared_error\n",
        "\n",
        "MSE_train = mean_squared_error(y_train, pred_train)\n",
        "MSE_test  = mean_squared_error(y_test, pred_test)\n",
        "\n",
        "print(\"RMSE train : \", np.sqrt(MSE_train))\n",
        "print(\"RMSE test  : \", np.sqrt(MSE_test))"
      ],
      "metadata": {
        "colab": {
          "base_uri": "https://localhost:8080/"
        },
        "id": "FLO_-y0Z7OHr",
        "outputId": "ce820c36-ec81-4640-cd8f-f8a50b7f32b9"
      },
      "execution_count": 12,
      "outputs": [
        {
          "output_type": "stream",
          "name": "stdout",
          "text": [
            "RMSE train :  64340.33927728243\n",
            "RMSE test  :  63220.79672157403\n"
          ]
        }
      ]
    },
    {
      "cell_type": "code",
      "source": [
        "# 기타 선형 모델평가지표 : MAE (MEAN ABSOLUTE ERROR)\n",
        "\n",
        "from sklearn.metrics import mean_absolute_error\n",
        "mean_absolute_error(y_test, pred_test)"
      ],
      "metadata": {
        "colab": {
          "base_uri": "https://localhost:8080/"
        },
        "id": "kq-Y-uYi7jyp",
        "outputId": "f9cc84f3-d920-4e94-85f8-be2bdb5b520c"
      },
      "execution_count": 13,
      "outputs": [
        {
          "output_type": "execute_result",
          "data": {
            "text/plain": [
              "47230.874701637375"
            ]
          },
          "metadata": {},
          "execution_count": 13
        }
      ]
    },
    {
      "cell_type": "code",
      "source": [
        "# 기타 선형 모델평가지표 : MSE (MEAN SQUARED ERROR)\n",
        "\n",
        "from sklearn.metrics import mean_squared_error\n",
        "mean_squared_error(y_test, pred_test)"
      ],
      "metadata": {
        "colab": {
          "base_uri": "https://localhost:8080/"
        },
        "id": "g7U69lVD8FEw",
        "outputId": "8d1bc56f-6862-4692-85d0-e9c85d495e7f"
      },
      "execution_count": 15,
      "outputs": [
        {
          "output_type": "execute_result",
          "data": {
            "text/plain": [
              "3996869138.1105857"
            ]
          },
          "metadata": {},
          "execution_count": 15
        }
      ]
    },
    {
      "cell_type": "code",
      "source": [
        "# 기타 선형 모델평가지표 : MAPE (MEAN ABSOLUTE PERCENTAGE ERROR)\n",
        "\n",
        "from sklearn.metrics import mean_absolute_percentage_error\n",
        "print(mean_absolute_percentage_error(y_test, pred_test) * 100)\n",
        "\n",
        "def MAPE(y_test, y_pred):\n",
        "  return np.mean(np.abs((y_test - y_pred) / y_test)) * 100\n",
        "print(MAPE(y_test, pred_test))"
      ],
      "metadata": {
        "colab": {
          "base_uri": "https://localhost:8080/"
        },
        "id": "ZON4k6lr8Smn",
        "outputId": "415b38cc-628a-491b-ae53-097d4f8fd375"
      },
      "execution_count": 18,
      "outputs": [
        {
          "output_type": "stream",
          "name": "stdout",
          "text": [
            "30.571439184617823\n",
            "house_value    30.571439\n",
            "dtype: float64\n"
          ]
        }
      ]
    },
    {
      "cell_type": "code",
      "source": [
        "# 기타 선형 모델평가지표 : MPE (MEAN PERCENTAGE ERROR)\n",
        "\n",
        "def MPE(y_test, y_pred):\n",
        "  return np.mean((y_test - y_pred) / y_test) * 100\n",
        "print(MPE(y_test, pred_test))"
      ],
      "metadata": {
        "colab": {
          "base_uri": "https://localhost:8080/"
        },
        "id": "f8hR9VxP873M",
        "outputId": "31384e04-49ca-493a-87f9-358f26e93454"
      },
      "execution_count": 20,
      "outputs": [
        {
          "output_type": "stream",
          "name": "stdout",
          "text": [
            "house_value   -12.37266\n",
            "dtype: float64\n"
          ]
        }
      ]
    }
  ]
}